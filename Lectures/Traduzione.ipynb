{
 "cells": [
  {
   "cell_type": "markdown",
   "id": "2da5ca2d",
   "metadata": {
    "slideshow": {
     "slide_type": "slide"
    }
   },
   "source": [
    "# Tutorato Corsi Zero\n",
    "Sergio Mancini A.A. 2024/2025"
   ]
  },
  {
   "cell_type": "markdown",
   "id": "b89fc509",
   "metadata": {
    "slideshow": {
     "slide_type": "slide"
    }
   },
   "source": [
    "## Calendario\n",
    "https://studentiunict-my.sharepoint.com/:x:/g/personal/mncsrg01a20c351k_studium_unict_it/ESjWM90DVrpGsD43Wc3VSaUBQ_Qe871oG5JStv7nZIESZQ?e=GNMEet&nav=MTVfe0QxODk3Q0E3LUNGRDYtREI0OC1CNUM0LTE4NjUzNDJGQUZGRH0"
   ]
  },
  {
   "cell_type": "markdown",
   "id": "0428379a",
   "metadata": {
    "slideshow": {
     "slide_type": "subslide"
    }
   },
   "source": [
    "# Canale Telegram\n",
    "https://t.me/+3qExmJg2eFZhNDg0"
   ]
  },
  {
   "cell_type": "markdown",
   "id": "67e365c5",
   "metadata": {
    "slideshow": {
     "slide_type": "slide"
    }
   },
   "source": [
    "# Traduzione\n",
    "- Un **compilatore** prende in input il codice sorgente e lo **traduce** in un **codice oggetto**\n",
    "    - C++, C, Pascal, ...\n",
    "- Un **interprete** prende in input il codice sorgente, ma **traduce** la singola istruzione generando il codice macchina ed **esegue** il codice macchina (dopo passa all'istruzione successiva)\n",
    "    - Python, PHP, _Java_"
   ]
  },
  {
   "cell_type": "markdown",
   "id": "ba1dbb5f",
   "metadata": {
    "slideshow": {
     "slide_type": "subslide"
    }
   },
   "source": [
    "## Compilatori\n",
    "- **Performance**: il codice sorgente viene tradotto prima e non durante l'esecuzione\n",
    "- **Efficienza**: il compilatore non occupa memoria durante l'esecuzione del programma\n",
    "- **Non invasivo**: il compilatore viene installato nelle macchine per sviluppo\n",
    "- **cross-compilazione** quando si produce un codice per un'architettura che è diversa da quella target "
   ]
  },
  {
   "cell_type": "markdown",
   "id": "5e0a211b",
   "metadata": {
    "slideshow": {
     "slide_type": "subslide"
    }
   },
   "source": [
    "## Interpreti\n",
    "- **Performance**: l'esecuzione del programma è lenta\n",
    "- **Efficienza**: l'interprete occupa memoria sulla macchina di produzione\n",
    "- **Invasivo**: l'interprete si deve installare sulle macchine di produzione\n",
    "- **Portabile**: non c'è il problema dell'architettura, perché l'interprete la nasconde "
   ]
  },
  {
   "cell_type": "markdown",
   "id": "651696fc",
   "metadata": {
    "slideshow": {
     "slide_type": "slide"
    }
   },
   "source": [
    "❓ **Un interprete:**\n",
    "1. traduce un programma P1 codificato in un linguaggio di alto livello in un programma equivalente P2 codificato in un altro linguaggio; infine P2 sarà tradotto in un programma equivalente P3 contenente istruzioni macchina da un compilatore;\n",
    "2. deve essere presente sulle macchine di sviluppo, ma non sulle macchine di produzione;\n",
    "3. traduce in linguaggio macchina un programma codificato in un liguaggio di alto livello nei casi in cui un precedente tentativo di traduzione mediante un compilatore non sia andato a buon fine; \n",
    "4. Nessuna delle tre risposte precedenti è corretta."
   ]
  },
  {
   "cell_type": "markdown",
   "id": "defdf10a",
   "metadata": {
    "slideshow": {
     "slide_type": "subslide"
    }
   },
   "source": [
    "# 4 ✅ \n",
    "1. un interprete esegue direttamente le istruzioni di un programma scritto in un linguaggio di alto livello, riga per riga, senza produrre un file eseguibile.\n",
    "2. l'interprete deve essere installato sulle macchine di **produzione**\n",
    "3. l'interprete non è un metodo alternativo"
   ]
  },
  {
   "cell_type": "markdown",
   "id": "41bb9d54",
   "metadata": {
    "slideshow": {
     "slide_type": "slide"
    }
   },
   "source": [
    "❓ **Quale dei seguenti non è considerato un paradigma di programmazione**\n",
    "1. Programmazione funzionale\n",
    "2. Programmazione logica\n",
    "3. Programmazione imperativa\n",
    "4. Programmazione sequenziale"
   ]
  },
  {
   "cell_type": "markdown",
   "id": "4bbaff92",
   "metadata": {
    "slideshow": {
     "slide_type": "subslide"
    }
   },
   "source": [
    "# 4 ✅ \n",
    "Vedi pdf _traduzione.pdf_ da pagina 6 a pagina 8"
   ]
  },
  {
   "cell_type": "markdown",
   "id": "a94257cf",
   "metadata": {
    "slideshow": {
     "slide_type": "slide"
    }
   },
   "source": [
    "❓ **Secondo il teorema di Bohm-Jacopini, quali sono i tre costrutti fondamentali della programmazione strutturata**\n",
    "1.  Sequenza, selezione, ricorsione\n",
    "2. Sequenza, selezione, iterazione\n",
    "3.  Sequenza, ricorsione, modularità\n",
    "4. Selezione, iterazione, modularità"
   ]
  },
  {
   "cell_type": "markdown",
   "id": "a99ab376",
   "metadata": {
    "slideshow": {
     "slide_type": "subslide"
    }
   },
   "source": [
    "# 2 ✅ \n",
    "Vedi pdf _traduzione.pdf_ pagina 7"
   ]
  },
  {
   "cell_type": "markdown",
   "id": "28822dd2",
   "metadata": {
    "slideshow": {
     "slide_type": "slide"
    }
   },
   "source": [
    "❓ **Quale delle seguenti affermazioni sui compilatori è falsa?**\n",
    "1. Generano codice oggetto a partire dal codice sorgente\n",
    "2. Offrono migliori performance di esecuzione rispetto agli interpreti\n",
    "3. Devono essere installati sulle macchine di produzione\n",
    "4. Supportano specifiche architetture"
   ]
  },
  {
   "cell_type": "markdown",
   "id": "52c48291",
   "metadata": {
    "slideshow": {
     "slide_type": "subslide"
    }
   },
   "source": [
    "# 3 ✅\n",
    "Vedi pdf _traduzione.pdf_ pagina 25\n",
    "\n"
   ]
  },
  {
   "cell_type": "markdown",
   "id": "4bd97ced",
   "metadata": {
    "slideshow": {
     "slide_type": "slide"
    }
   },
   "source": [
    "❓ **Qual è il principale vantaggio degli interpreti rispetto ai compilatori?**\n",
    "1. Maggiore velocità di esecuzione\n",
    "2. Minore utilizzo di risorse durante l'esecuzione\n",
    "3. Non necessitano di installazione sulle macchine di produzione\n",
    "4. Maggiore portabilità tra diverse architetture"
   ]
  },
  {
   "cell_type": "markdown",
   "id": "1f8f59dd",
   "metadata": {
    "slideshow": {
     "slide_type": "subslide"
    }
   },
   "source": [
    "# 4 ✅\n",
    "Vedi pdf _traduzione.pdf_ pagina 26"
   ]
  }
 ],
 "metadata": {
  "celltoolbar": "Slideshow",
  "kernelspec": {
   "display_name": "Python 3 (ipykernel)",
   "language": "python",
   "name": "python3"
  },
  "language_info": {
   "codemirror_mode": {
    "name": "ipython",
    "version": 3
   },
   "file_extension": ".py",
   "mimetype": "text/x-python",
   "name": "python",
   "nbconvert_exporter": "python",
   "pygments_lexer": "ipython3",
   "version": "3.11.0"
  }
 },
 "nbformat": 4,
 "nbformat_minor": 5
}
