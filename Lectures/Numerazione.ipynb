{
 "cells": [
  {
   "cell_type": "markdown",
   "id": "2da5ca2d",
   "metadata": {
    "slideshow": {
     "slide_type": "slide"
    }
   },
   "source": [
    "# Tutorato Corsi Zero\n",
    "Sergio Mancini A.A. 2024/2025"
   ]
  },
  {
   "cell_type": "markdown",
   "id": "b89fc509",
   "metadata": {
    "slideshow": {
     "slide_type": "slide"
    }
   },
   "source": [
    "## Calendario\n",
    "https://studentiunict-my.sharepoint.com/:x:/g/personal/mncsrg01a20c351k_studium_unict_it/ESjWM90DVrpGsD43Wc3VSaUBQ_Qe871oG5JStv7nZIESZQ?e=GNMEet&nav=MTVfe0QxODk3Q0E3LUNGRDYtREI0OC1CNUM0LTE4NjUzNDJGQUZGRH0"
   ]
  },
  {
   "cell_type": "markdown",
   "id": "afa8b663",
   "metadata": {
    "slideshow": {
     "slide_type": "subslide"
    }
   },
   "source": [
    "# Canale Telegram\n",
    "https://t.me/+3qExmJg2eFZhNDg0"
   ]
  },
  {
   "cell_type": "markdown",
   "id": "29fd9977",
   "metadata": {
    "slideshow": {
     "slide_type": "slide"
    }
   },
   "source": [
    "# Sistemi Di Numerazione Posizionale e Conversioni\n"
   ]
  },
  {
   "cell_type": "markdown",
   "id": "6f1115f0",
   "metadata": {
    "slideshow": {
     "slide_type": "slide"
    }
   },
   "source": [
    "## Conversione da Base 2 a Base 10 (interi)\n",
    "\n",
    "$$\n",
    "[10101010]_2=1\\cdot 2^7+0\\cdot 2^6+1\\cdot 2^5+ 0\\cdot 2^4+1\\cdot 2^3 +0\\cdot 2^2+1\\cdot 2^1 +0\\cdot 2^0 = [170]_{10}\n",
    "$$"
   ]
  },
  {
   "cell_type": "markdown",
   "id": "c4fa3a13",
   "metadata": {
    "slideshow": {
     "slide_type": "slide"
    }
   },
   "source": [
    "## Conversione da Base 2 a Base 10 (frazioni)\n",
    "\n",
    "$$\n",
    "[101.0101]_2 = [5.3125]_{10} \\\\\n",
    "(x>1) \\ \\ [101]_2 = 1\\cdot 2^2+0\\cdot 2^1+1\\cdot 2^0 = (5)_{10}\\\\\n",
    "(x<1)\\ \\ [.0101]_2 = 0\\cdot 2^{-1}+1\\cdot 2^{-2}+0\\cdot2^{-3}+1\\cdot2^{-4}=(0.3125)_{10}\n",
    "$$"
   ]
  },
  {
   "cell_type": "markdown",
   "id": "cce1b546",
   "metadata": {
    "slideshow": {
     "slide_type": "slide"
    }
   },
   "source": [
    "## Conversione da Base 10 a Base 2 (interi)\n",
    "\n",
    "$$\n",
    "136_{10}=10001000_2 \n",
    "$$\n",
    "\n",
    "$$\n",
    "136:2=68 \\ \\ r=0\\\\\n",
    "68:2=34 \\ \\ r=0 \\\\\n",
    "34:2=17 \\ \\ r=0\\\\\n",
    "17:2=8 \\ \\ r=1 \\\\\n",
    "8:2=4 \\ \\ r=0\\\\\n",
    "4:2=2 \\ \\ r=0\\\\\n",
    "2:2=1 \\ \\ r=0\\\\\n",
    "1:2=0 \\ \\ r=1\n",
    "$$"
   ]
  },
  {
   "cell_type": "markdown",
   "id": "d4ca79bf",
   "metadata": {
    "slideshow": {
     "slide_type": "slide"
    }
   },
   "source": [
    "## Conversione da Base 10 a Base 2 (frazioni)\n",
    "\n",
    "$$\n",
    "[0.125]_{10}=[0.001]_2\n",
    "$$\n",
    "\n",
    "$$\n",
    "0.125\\cdot2=0.250 \\ \\ riporto = 0 \\ | \\ a_1=0\\\\\n",
    "0.250\\cdot2 = 0.500 \\ \\ riporto =0 \\ | \\ a_2=0\\\\\n",
    "0.500\\cdot2 = 1.000 \\ \\ riporto =1 \\ | \\ a_3=1\\\\\n",
    "0.000\\cdot2 = 0.000 \\ \\ FINE \\ | \\ a_4 = a_5=...=0\n",
    "$$"
   ]
  },
  {
   "cell_type": "markdown",
   "id": "1b9508d6",
   "metadata": {
    "slideshow": {
     "slide_type": "slide"
    }
   },
   "source": [
    "## Conversione da Base 2 a Base 16 \n",
    "\n",
    "$$\n",
    "[100100]_2=[\\color{red}{0010}0100]_2 \\ \\ \\ \\  \\text{(Si aggiungono 2 zeri a sinistra per arrivare a 8 cifre)}\n",
    "$$\n",
    "\n",
    "$$\n",
    "[\\color{red}{0010}]_2=2_{16} \\\\ \n",
    "[0100]_2=4_{16} \\\\ \n",
    "[00100100]_2 = [24]_{16}\n",
    "$$\n",
    "\n",
    "$$\n",
    "[00100100]_2=2\\cdot16^1+4\\cdot16^0= [36]_{10}\n",
    "$$"
   ]
  },
  {
   "cell_type": "markdown",
   "id": "51a9a36a",
   "metadata": {
    "slideshow": {
     "slide_type": "slide"
    }
   },
   "source": [
    "## Conversione da Base 16 a Base 2 \n",
    "\n",
    "$$\n",
    "0xf3c0 \\\\\n",
    "[f]_{16}=[1111]_2 \\\\\n",
    "[3]_{16}=[0011]_2 \\\\\n",
    "[c]_{16}=[1100]_2 \\\\\n",
    "[0]_{16} = [0000]_2\n",
    "$$\n",
    "\n",
    "$$\n",
    "0xf3c0 = [1111001111000000]_2\n",
    "$$"
   ]
  },
  {
   "cell_type": "markdown",
   "id": "b15db9f0",
   "metadata": {
    "slideshow": {
     "slide_type": "slide"
    }
   },
   "source": [
    "# Rappresentazione dei numeri REALI"
   ]
  },
  {
   "cell_type": "markdown",
   "id": "383ed10b",
   "metadata": {
    "slideshow": {
     "slide_type": "slide"
    }
   },
   "source": [
    "# ESERCIZI TUTORATO\n",
    "\n",
    "https://studentiunict-my.sharepoint.com/:o:/g/personal/mncsrg01a20c351k_studium_unict_it/EmRFDt8R4hFLkxZW34MqD6cBfnYdNDUv6V4DsTDJXbU1lw?e=bVTcVU"
   ]
  },
  {
   "cell_type": "markdown",
   "id": "31ad43be",
   "metadata": {
    "slideshow": {
     "slide_type": "slide"
    }
   },
   "source": [
    "# ESERCIZI UNIMI\n",
    "https://homes.di.unimi.it/ferrari/ITP2005_06/eserciz_conv.pdf"
   ]
  },
  {
   "cell_type": "markdown",
   "id": "8e865889",
   "metadata": {
    "slideshow": {
     "slide_type": "slide"
    }
   },
   "source": [
    "# Simulatore complemento a 2\n",
    "http://infodoc.altervista.org/simulatore-somma-in-complemento-a-due/"
   ]
  },
  {
   "cell_type": "markdown",
   "id": "426d2ba4",
   "metadata": {
    "slideshow": {
     "slide_type": "slide"
    }
   },
   "source": [
    "❓ **Nella rappresentazione dei numeri in virgola mobile basata sullo standard IEEE 754:**\n",
    "1. i concetti di underflow e di overflow sono identici, cambia il segno: negativo quando si verifica underflow, positivo quando si verifica overflow;\n",
    "2. i concetti di underflow e di overflow sono differenti: in caso di underflow il numero è troppo piccolo, in valore assoluto, per essere rappresentato; in caso di overflow il numero è troppo grande, in valore assoluto, per essere rappresentato;\n",
    "3. esistono due combinazioni di bit speciali riservate a rappresentare rispettivamente underflow e overflow;\n",
    "4. nessuna delle precedenti risposte è corretta."
   ]
  },
  {
   "cell_type": "markdown",
   "id": "04cc8481",
   "metadata": {
    "slideshow": {
     "slide_type": "subslide"
    }
   },
   "source": [
    "# 2 ✅\n",
    "Vedi slide _numerazione.pdf_ pagina 73\n"
   ]
  },
  {
   "cell_type": "markdown",
   "id": "3702c299",
   "metadata": {
    "slideshow": {
     "slide_type": "slide"
    }
   },
   "source": [
    "❓ **Nella rappresentazione dei numeri in virgola mobile che si basi sullo standard IEEE 754:**\n",
    "1. la precisione p rappresenta il numero di cifre decimali (quelle dopo la virgola) che è possibile rappresentare senza perdita di precisione;\n",
    "2. la precisione p rappresenta il numero di cifre significative che è possibile rappresentare senza perdita di precisione;\n",
    "3. la precisione p è inversamente proporzionale al massimo ordine di grandezza che è possibile ottenere con un certo formato.\n",
    "4. Nessuna delle risposte precedenti è corretta."
   ]
  },
  {
   "cell_type": "markdown",
   "id": "d8f576f5",
   "metadata": {
    "slideshow": {
     "slide_type": "subslide"
    }
   },
   "source": [
    "# 2 ✅\n",
    "Vedi slide _numerazione.pdf_ pagina 72\n"
   ]
  },
  {
   "cell_type": "markdown",
   "id": "56b1ca9f",
   "metadata": {
    "slideshow": {
     "slide_type": "slide"
    }
   },
   "source": [
    "❓ **Quale dei seguenti non è un sistema di numerazione posizionale?**\n",
    "1. Sistema binario\n",
    "2. Sistema decimale\n",
    "3. Sistema esadecimale\n",
    "4. Sistema Romano"
   ]
  },
  {
   "cell_type": "markdown",
   "id": "5e7913ec",
   "metadata": {
    "slideshow": {
     "slide_type": "subslide"
    }
   },
   "source": [
    "# 4 ✅\n",
    "I sistemi di numerazione posizionale assegnano un \"peso\" ai simboli in base alla loro posizione nella notazione. Il sistema Romano non è posizionale, poiché il valore di ciascun simbolo è fisso indipendentemente dalla sua posizione.\n"
   ]
  },
  {
   "cell_type": "markdown",
   "id": "ceb5ab3d",
   "metadata": {
    "slideshow": {
     "slide_type": "slide"
    }
   },
   "source": [
    "❓ **In un sistema di numerazione posizionale, qual è la cifra più significativa?**\n",
    "1. La cifra più a destra\n",
    "2. La cifra più a sinistra\n",
    "3. La cifra centrale\n",
    "4. Tutte le cifre hanno la stessa significatività"
   ]
  },
  {
   "cell_type": "markdown",
   "id": "4b5829a1",
   "metadata": {
    "slideshow": {
     "slide_type": "subslide"
    }
   },
   "source": [
    "# 2 ✅\n",
    "Nei sistemi di numerazione posizionale, la cifra più a sinistra è la più significativa (Most Significant Digit) perché è associata al peso maggiore.\n"
   ]
  },
  {
   "cell_type": "markdown",
   "id": "b0c46691",
   "metadata": {
    "slideshow": {
     "slide_type": "slide"
    }
   },
   "source": [
    "❓ **Qual è l'intervallo di numeri rappresentabili con 16 bit in complemento a due?**\n",
    "1. [0, 65535]\n",
    "2. [-32768, 32767]\n",
    "3. [-65536, 65535]\n",
    "4. [-32767, 32768]"
   ]
  },
  {
   "cell_type": "markdown",
   "id": "7404446e",
   "metadata": {
    "slideshow": {
     "slide_type": "subslide"
    }
   },
   "source": [
    "# 2 ✅\n",
    "Con 16 bit in complemento a due, si possono rappresentare numeri nell'intervallo $±(2^{15} - 1)$, che corrisponde a [-32768, 32767].\n"
   ]
  }
 ],
 "metadata": {
  "celltoolbar": "Slideshow",
  "kernelspec": {
   "display_name": "Python 3 (ipykernel)",
   "language": "python",
   "name": "python3"
  },
  "language_info": {
   "codemirror_mode": {
    "name": "ipython",
    "version": 3
   },
   "file_extension": ".py",
   "mimetype": "text/x-python",
   "name": "python",
   "nbconvert_exporter": "python",
   "pygments_lexer": "ipython3",
   "version": "3.11.0"
  }
 },
 "nbformat": 4,
 "nbformat_minor": 5
}
