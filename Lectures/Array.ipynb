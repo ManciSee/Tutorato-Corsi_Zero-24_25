{
 "cells": [
  {
   "cell_type": "markdown",
   "id": "2da5ca2d",
   "metadata": {
    "slideshow": {
     "slide_type": "slide"
    }
   },
   "source": [
    "# Tutorato Corsi Zero\n",
    "Sergio Mancini A.A. 2024/2025"
   ]
  },
  {
   "cell_type": "markdown",
   "id": "b89fc509",
   "metadata": {
    "slideshow": {
     "slide_type": "slide"
    }
   },
   "source": [
    "## Calendario\n",
    "https://studentiunict-my.sharepoint.com/:x:/g/personal/mncsrg01a20c351k_studium_unict_it/ESjWM90DVrpGsD43Wc3VSaUBQ_Qe871oG5JStv7nZIESZQ?e=GNMEet&nav=MTVfe0QxODk3Q0E3LUNGRDYtREI0OC1CNUM0LTE4NjUzNDJGQUZGRH0"
   ]
  },
  {
   "cell_type": "markdown",
   "id": "0428379a",
   "metadata": {
    "slideshow": {
     "slide_type": "subslide"
    }
   },
   "source": [
    "# Canale Telegram\n",
    "https://t.me/+3qExmJg2eFZhNDg0"
   ]
  },
  {
   "cell_type": "markdown",
   "id": "557873f4",
   "metadata": {
    "slideshow": {
     "slide_type": "slide"
    }
   },
   "source": [
    "# Principali Strutture Dati"
   ]
  },
  {
   "cell_type": "markdown",
   "id": "8051e8c0",
   "metadata": {
    "slideshow": {
     "slide_type": "slide"
    }
   },
   "source": [
    "# Pila (stack)\n",
    "https://www.digitalocean.com/community/tutorials/stack-in-c"
   ]
  },
  {
   "cell_type": "markdown",
   "id": "63fe8884",
   "metadata": {
    "slideshow": {
     "slide_type": "subslide"
    }
   },
   "source": [
    "```\n",
    "#include <stdio.h>\n",
    "\n",
    "#include <stdlib.h>\n",
    "\n",
    "#define SIZE 4\n",
    "\n",
    "int top = -1, inp_array[SIZE];\n",
    "void push();\n",
    "void pop();\n",
    "void show();\n",
    "\n",
    "int main()\n",
    "{\n",
    "    int choice;\n",
    "\n",
    "    while (1)\n",
    "    {\n",
    "        printf(\"\\nPerform operations on the stack:\");\n",
    "        printf(\"\\n1.Push the element\\n2.Pop the element\\n3.Show\\n4.End\");\n",
    "        printf(\"\\n\\nEnter the choice: \");\n",
    "        scanf(\"%d\", &choice);\n",
    "\n",
    "        switch (choice)\n",
    "        {\n",
    "        case 1:\n",
    "            push();\n",
    "            break;\n",
    "        case 2:\n",
    "            pop();\n",
    "            break;\n",
    "        case 3:\n",
    "            show();\n",
    "            break;\n",
    "        case 4:\n",
    "            exit(0);\n",
    "\n",
    "        default:\n",
    "            printf(\"\\nInvalid choice!!\");\n",
    "        }\n",
    "    }\n",
    "}\n",
    "\n",
    "void push()\n",
    "{\n",
    "    int x;\n",
    "\n",
    "    if (top == SIZE - 1)\n",
    "    {\n",
    "        printf(\"\\nOverflow!!\");\n",
    "    }\n",
    "    else\n",
    "    {\n",
    "        printf(\"\\nEnter the element to be added onto the stack: \");\n",
    "        scanf(\"%d\", &x);\n",
    "        top = top + 1;\n",
    "        inp_array[top] = x;\n",
    "    }\n",
    "}\n",
    "\n",
    "void pop()\n",
    "{\n",
    "    if (top == -1)\n",
    "    {\n",
    "        printf(\"\\nUnderflow!!\");\n",
    "    }\n",
    "    else\n",
    "    {\n",
    "        printf(\"\\nPopped element: %d\", inp_array[top]);\n",
    "        top = top - 1;\n",
    "    }\n",
    "}\n",
    "\n",
    "void show()\n",
    "{\n",
    "    if (top == -1)\n",
    "    {\n",
    "        printf(\"\\nUnderflow!!\");\n",
    "    }\n",
    "    else\n",
    "    {\n",
    "        printf(\"\\nElements present in the stack: \\n\");\n",
    "        for (int i = top; i >= 0; --i)\n",
    "            printf(\"%d\\n\", inp_array[i]);\n",
    "    }\n",
    "}\n",
    "```"
   ]
  },
  {
   "cell_type": "markdown",
   "id": "38d293e7",
   "metadata": {
    "slideshow": {
     "slide_type": "slide"
    }
   },
   "source": [
    "# Code (Queue)\n",
    "https://www.digitalocean.com/community/tutorials/queue-in-c\n",
    "\n"
   ]
  },
  {
   "cell_type": "markdown",
   "id": "e20659bb",
   "metadata": {
    "slideshow": {
     "slide_type": "subslide"
    }
   },
   "source": [
    "```\n",
    "#include <stdio.h>\n",
    "# define SIZE 100\n",
    "void enqueue();\n",
    "void dequeue();\n",
    "void show();\n",
    "int inp_arr[SIZE];\n",
    "int Rear = - 1;\n",
    "int Front = - 1;\n",
    "main()\n",
    "{\n",
    "    int ch;\n",
    "    while (1)\n",
    "    {\n",
    "        printf(\"1.Enqueue Operation\\n\");\n",
    "        printf(\"2.Dequeue Operation\\n\");\n",
    "        printf(\"3.Display the Queue\\n\");\n",
    "        printf(\"4.Exit\\n\");\n",
    "        printf(\"Enter your choice of operations : \");\n",
    "        scanf(\"%d\", &ch);\n",
    "        switch (ch)\n",
    "        {\n",
    "            case 1:\n",
    "            enqueue();\n",
    "            break;\n",
    "            case 2:\n",
    "            dequeue();\n",
    "            break;\n",
    "            case 3:\n",
    "            show();\n",
    "            break;\n",
    "            case 4:\n",
    "            exit(0);\n",
    "            default:\n",
    "            printf(\"Incorrect choice \\n\");\n",
    "        } \n",
    "    } \n",
    "} \n",
    " \n",
    "void enqueue()\n",
    "{\n",
    "    int insert_item;\n",
    "    if (Rear == SIZE - 1)\n",
    "       printf(\"Overflow \\n\");\n",
    "    else\n",
    "    {\n",
    "        if (Front == - 1)\n",
    "      \n",
    "        Front = 0;\n",
    "        printf(\"Element to be inserted in the Queue\\n : \");\n",
    "        scanf(\"%d\", &insert_item);\n",
    "        Rear = Rear + 1;\n",
    "        inp_arr[Rear] = insert_item;\n",
    "    }\n",
    "} \n",
    " \n",
    "void dequeue()\n",
    "{\n",
    "    if (Front == - 1 || Front > Rear)\n",
    "    {\n",
    "        printf(\"Underflow \\n\");\n",
    "        return ;\n",
    "    }\n",
    "    else\n",
    "    {\n",
    "        printf(\"Element deleted from the Queue: %d\\n\", inp_arr[Front]);\n",
    "        Front = Front + 1;\n",
    "    }\n",
    "} \n",
    " \n",
    "void show()\n",
    "{\n",
    "    \n",
    "    if (Front == - 1)\n",
    "        printf(\"Empty Queue \\n\");\n",
    "    else\n",
    "    {\n",
    "        printf(\"Queue: \\n\");\n",
    "        for (int i = Front; i <= Rear; i++)\n",
    "            printf(\"%d \", inp_arr[i]);\n",
    "        printf(\"\\n\");\n",
    "    }\n",
    "}\n",
    "```"
   ]
  },
  {
   "cell_type": "markdown",
   "id": "ef1267d8",
   "metadata": {
    "slideshow": {
     "slide_type": "slide"
    }
   },
   "source": [
    "# Lista (Linked List)\n",
    "https://www.programiz.com/dsa/linked-list"
   ]
  },
  {
   "cell_type": "markdown",
   "id": "b5482268",
   "metadata": {
    "slideshow": {
     "slide_type": "subslide"
    }
   },
   "source": [
    "\n",
    "```\n",
    "// Linked list implementation in C\n",
    "\n",
    "#include <stdio.h>\n",
    "#include <stdlib.h>\n",
    "\n",
    "// Creating a node\n",
    "struct node {\n",
    "  int value;\n",
    "  struct node *next;\n",
    "};\n",
    "\n",
    "// print the linked list value\n",
    "void printLinkedlist(struct node *p) {\n",
    "  while (p != NULL) {\n",
    "    printf(\"%d \", p->value);\n",
    "    p = p->next;\n",
    "  }\n",
    "}\n",
    "\n",
    "int main() {\n",
    "  // Initialize nodes\n",
    "  struct node *head;\n",
    "  struct node *one = NULL;\n",
    "  struct node *two = NULL;\n",
    "  struct node *three = NULL;\n",
    "\n",
    "  // Allocate memory\n",
    "  one = malloc(sizeof(struct node));\n",
    "  two = malloc(sizeof(struct node));\n",
    "  three = malloc(sizeof(struct node));\n",
    "\n",
    "  // Assign value values\n",
    "  one->value = 1;\n",
    "  two->value = 2;\n",
    "  three->value = 3;\n",
    "\n",
    "  // Connect nodes\n",
    "  one->next = two;\n",
    "  two->next = three;\n",
    "  three->next = NULL;\n",
    "\n",
    "  // printing node-value\n",
    "  head = one;\n",
    "  printLinkedlist(head);\n",
    "}\n",
    "```"
   ]
  },
  {
   "cell_type": "markdown",
   "id": "62ba2d65",
   "metadata": {
    "slideshow": {
     "slide_type": "slide"
    }
   },
   "source": [
    "# Modelli FIFO e LIFO\n",
    "<p align=\"center\">\n",
    "<img src=\"../images/lifo_fifo.jpg\" style=\"width:40%; height:40%;\">\n",
    "</p>"
   ]
  },
  {
   "cell_type": "markdown",
   "id": "69293859",
   "metadata": {
    "slideshow": {
     "slide_type": "subslide"
    }
   },
   "source": [
    "## FIFO\n",
    "Il termine **FIFO** è l'acronimo inglese di **First In First Out** che rappresenta il metodo di transito in una coda: _\"primo ad entrare, primo ad uscire\"_."
   ]
  },
  {
   "cell_type": "markdown",
   "id": "a7d69676",
   "metadata": {
    "slideshow": {
     "slide_type": "subslide"
    }
   },
   "source": [
    "## LIFO\n",
    "Il termine **LIFO** è l'acronimo inglese di **Last In First Out**: _\"ultimo ad entrare, primo ad uscire\"_ e presuppone che vengano scaricati per primi i beni strumentali inseriti per ultimi. Esprime il concetto relativo al modo di immagazzinare dati in cui l'ultimo valore introdotto è il primo ad uscire. Si rappresenta di solito con una pila di piatti, in cui l'ultimo appoggiato in cima è necessariamente il primo ad essere prelevato, mentre il primo introdotto è raggiunto per ultimo."
   ]
  }
 ],
 "metadata": {
  "celltoolbar": "Slideshow",
  "kernelspec": {
   "display_name": "Python 3 (ipykernel)",
   "language": "python",
   "name": "python3"
  },
  "language_info": {
   "codemirror_mode": {
    "name": "ipython",
    "version": 3
   },
   "file_extension": ".py",
   "mimetype": "text/x-python",
   "name": "python",
   "nbconvert_exporter": "python",
   "pygments_lexer": "ipython3",
   "version": "3.11.0"
  }
 },
 "nbformat": 4,
 "nbformat_minor": 5
}
