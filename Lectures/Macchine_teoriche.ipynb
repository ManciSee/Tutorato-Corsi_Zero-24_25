{
 "cells": [
  {
   "cell_type": "markdown",
   "id": "93350d8a",
   "metadata": {
    "slideshow": {
     "slide_type": "slide"
    }
   },
   "source": [
    "# Tutorato Corsi Zero\n",
    "Sergio Mancini A.A. 2024/2025"
   ]
  },
  {
   "cell_type": "markdown",
   "id": "3ddccf4e",
   "metadata": {
    "slideshow": {
     "slide_type": "slide"
    }
   },
   "source": [
    "## Calendario\n",
    "https://studentiunict-my.sharepoint.com/:x:/g/personal/mncsrg01a20c351k_studium_unict_it/ESjWM90DVrpGsD43Wc3VSaUBQ_Qe871oG5JStv7nZIESZQ?e=GNMEet&nav=MTVfe0QxODk3Q0E3LUNGRDYtREI0OC1CNUM0LTE4NjUzNDJGQUZGRH0"
   ]
  },
  {
   "cell_type": "markdown",
   "id": "40bb317f",
   "metadata": {
    "slideshow": {
     "slide_type": "subslide"
    }
   },
   "source": [
    "# Canale Telegram\n",
    "https://t.me/+3qExmJg2eFZhNDg0"
   ]
  },
  {
   "cell_type": "markdown",
   "id": "6a233e3b",
   "metadata": {
    "slideshow": {
     "slide_type": "slide"
    }
   },
   "source": [
    "# Il Calcolatore"
   ]
  },
  {
   "cell_type": "markdown",
   "id": "250f9a2b",
   "metadata": {
    "slideshow": {
     "slide_type": "subslide"
    }
   },
   "source": [
    "Un calcolatore è capace di **memorizzare**, **elaborare** e **trasferire** dati <br/> <br/>\n",
    "Esegue una **computazione** in modo automatico e specificata sotto forma di un **algoritmo** scritto in un **linguaggio**"
   ]
  },
  {
   "cell_type": "markdown",
   "id": "60de6433",
   "metadata": {
    "slideshow": {
     "slide_type": "slide"
    }
   },
   "source": [
    "# Modelli Teorici"
   ]
  },
  {
   "cell_type": "markdown",
   "id": "a7bfe8ea",
   "metadata": {
    "slideshow": {
     "slide_type": "slide"
    }
   },
   "source": [
    "## Macchina Di Turing\n",
    "- Sviluppata da Alan Mathison Turing (1912–1954), dimostrando di poter **eseguire qualsiasi algoritmo**\n",
    "- Si tratta di un modello astratto/ideale () che definisce una macchina in grado di eseguire **algoritmi** e dotata di un nastro potenzialmente infinito su cui può leggere e/o scrivere dei simboli\n",
    "- Così importante che per definire in modo formalmente preciso la nozione di algoritmo, si tende a ricondurlo alle elaborazioni effettuabili con macchine di Turing\n",
    "- Si può definire un **algoritmo come una <span style='color: red;'>Macchina di Turing </span>**\n",
    "\n",
    "<p align=\"center\">\n",
    "<img src=\"../images/Model_of_a_Turing_machine.jpg\" style=\"width:40%; height:40%;\">\n",
    "</p>"
   ]
  },
  {
   "cell_type": "markdown",
   "id": "7ce5e8fb",
   "metadata": {
    "slideshow": {
     "slide_type": "subslide"
    }
   },
   "source": [
    "### Macchina di Turing Universale\n",
    "Consiste in una Macchina di Turing capace di calcolare tutte le funzioni calcolabili da ogni Macchina di Turing"
   ]
  },
  {
   "cell_type": "markdown",
   "id": "4d3c40db",
   "metadata": {
    "slideshow": {
     "slide_type": "subslide"
    }
   },
   "source": [
    "### Componenti\n",
    "La Macchina di Turing è definita da questi elementi:\n",
    "- Un **nastro** che può essere immaginato come un nastro di carta di lunghezza infinita, diviso in quadratini dette **celle**. Ogni cella contiene un simbolo di un alfabeto finito, oppure è vuota\n",
    "- Una **testina** che si sposta lungo il nastro (destra o sinistra) leggendo, scrivendo oppure cancellando simboli nelle celle del nastro"
   ]
  },
  {
   "cell_type": "markdown",
   "id": "0bdc42e7",
   "metadata": {
    "slideshow": {
     "slide_type": "subslide"
    }
   },
   "source": [
    "### Funzionamento\n",
    "Ad ogni passo, la macchina legge un simbolo sul nastro (input) ed in base al suo **stato interno**:\n",
    "1. Cambia lo stato interno\n",
    "2. Modifica un simbolo sul nastro (output) oppure sposta la testina a sinistra o a destra di una posizione.\n",
    "\n",
    "L'insieme degli stati interni contiene lo **stato iniziale** e lo **stato finale**\n",
    "\n",
    "Il **risultato della computazione** consiste nel contenuto del nastro quando la Macchina avrà terminato, raggiungengo lo stato finale"
   ]
  },
  {
   "cell_type": "markdown",
   "id": "4cadf6d9",
   "metadata": {
    "slideshow": {
     "slide_type": "subslide"
    }
   },
   "source": [
    "Il comportamento di una Macchina di Turing può essere programmato come delle regole o **quintuple** (equivalente a definire un **algoritmo per risolvere un problema**):\n",
    "\n",
    "$$\n",
    "\\left(S,\\alpha, S^*, \\beta, \\{<,> \\}\\right)\n",
    "$$\n",
    "\n",
    "Cioè:\n",
    "$$\n",
    "\\left(\\text{stato corrente}, \\text{simbolo letto}, \\text{prossimo stato}, \\text{simbolo da scrivere}, \\{\\text{spostamento della testina} \\} \\right)\n",
    "$$"
   ]
  },
  {
   "cell_type": "markdown",
   "id": "783b66cb",
   "metadata": {
    "slideshow": {
     "slide_type": "subslide"
    }
   },
   "source": [
    "## Condizione Di Determinatezza\n",
    "Le azioni della Macchina di Turing, dipendono da:\n",
    "1. Dai simboli contenuti nella casella osservata in quell'istante\n",
    "2. Dallo **stato mentale** (quello che la Macchina ricorda in quel momento) corrente\n",
    "\n",
    "Questa condizione si riferisce al fatto che, dato uno stato attuale della Macchina e un simbolo specifico letto dal nastro, deve esistere una singola azione determinata da eseguire"
   ]
  },
  {
   "cell_type": "markdown",
   "id": "46236f01",
   "metadata": {
    "slideshow": {
     "slide_type": "subslide"
    }
   },
   "source": [
    "## Condizione Di Finitezza\n",
    "- **Il numero di simboli è fissato e finito**, se fosse infinito ci sarebbero simboli molto simili tra loro così da non poterli distinguere\n",
    "- **Il numero di celle osservabili in una volta è finito**\n",
    "- **Si possono ricordare solo un numero finito di stadi precedenti**, sennò ci sarebbero stadi simili e quindi non distinguibili. Gli stadi precedenti **influenzano** il calcolo dello stadio attuale\n",
    "\n",
    "Le azioni che si possono compiere sono:\n",
    "1. Cambiare il contenuto di alcune celle \n",
    "2. Cambiare cella\n",
    "3. Cambiare lo stato mentale, cioè quello che si ricorda del calcolo\n",
    "4. Osservare nuove caselle, che si trovano ad una distanza massima $L$ da una cella osservata"
   ]
  },
  {
   "cell_type": "markdown",
   "id": "dea96a0a",
   "metadata": {
    "slideshow": {
     "slide_type": "subslide"
    }
   },
   "source": [
    "## Funzione Turing-Computabile\n",
    "Una funzione **parziale** $f_i(a)$ si dice Turing-Computabile se esiste una Macchina di Turing $T_i$ che può **computare** con un numero finito di passi il suo valore\n",
    "\n",
    "Ma non tutte le funzioni possono essere calcolate dalla Macchina\n",
    "\n",
    "Se l'analisi di Turing è **corretta**, _ogni funzione parziale a valori interi che può essere computata da un umano e che rispetta le condizioni precedenti (determinatezza e finitezza) è **Turing-Computabile**_\n",
    "\n",
    "_**computabile:** se esiste un algoritmo che in un numero finito di passi riesce a calcolare il valore di una funzione_"
   ]
  },
  {
   "cell_type": "markdown",
   "id": "6345227a",
   "metadata": {
    "slideshow": {
     "slide_type": "subslide"
    }
   },
   "source": [
    "## Tesi Di Turing\n",
    "Ogni funzione **parziale** calcolabile con un algoritmo, è una funzione parziale calcolabile da una Macchina di Turing\n",
    "\n",
    "## Tesi Di Church\n",
    "Ogni funzione **intuitivamente** computabile, è computabile con la Macchina di Turing\n",
    "\n",
    "_Queste due tesi sono equivalenti_"
   ]
  },
  {
   "cell_type": "markdown",
   "id": "6806f649",
   "metadata": {
    "slideshow": {
     "slide_type": "subslide"
    }
   },
   "source": [
    "## Test di Turing\n",
    "Il **test di Turing** è un criterio per determinare se una macchina è in grado di esibire un comportamento intelligente, suggerito da Alan Turing nell'articolo Computing machinery and intelligence apparso nel 1950 sulla rivista Mind\n",
    "\n",
    "<a href=\"https://it.wikipedia.org/wiki/Test_di_Turing\">Test di Turing</a>"
   ]
  },
  {
   "cell_type": "markdown",
   "id": "93f8ed54",
   "metadata": {
    "slideshow": {
     "slide_type": "slide"
    }
   },
   "source": [
    "## Architettura Di Von Neumann\n",
    "- Si riferisce allo schema progettuale pensato dal matematico ungherese John Von Neumann intorno alla metà del Novecento\n",
    "- Il computer come lo intendiamo oggi si basa su questo schema:\n",
    "    1. **CPU**, il cervello del computer\n",
    "    2. **RAM**, la memoria principale (i dati e i programmi devono risiedere qui per essere utilizzati dalla CPU)\n",
    "    3. **Interfaccia di I/O (Input/Output)**, gli hard-disk, CD/DVD, mouse, tastiera, ...\n",
    "    4. **Bus di sistema**, il canale di comunicazione che permette di collegare tra loro i componenti dell’architettura, consentendo il transito delle informazioni\n",
    "- Si può definire un **algoritmo come un <span style='color: red;'>programma della macchina di Von Neumann</span>**"
   ]
  },
  {
   "cell_type": "markdown",
   "id": "79087aee",
   "metadata": {
    "slideshow": {
     "slide_type": "subslide"
    }
   },
   "source": [
    "## Macchina di Von Neumann\n",
    "<p align=\"center\">\n",
    "<img src=\"../images/von_neumann.png\" style=\"width:40%; height:40%;\">\n",
    "</p>\n",
    "\n",
    "Questa macchina può essere definita come una terna $\\{N,IS,P \\}$:\n",
    "\n",
    "- $N$ è l'insieme dei numeri naturali (l'alfabeto della macchina)\n",
    "- $IS$ è l'insieme delle istruzioni della macchina\n",
    "- $P$ è il programma\n",
    "    - Le sue istruzioni sono registrate in RAM, eseguite secondo l'ordine del programma e l'esecuzione si arresta a seguito di un'istruzione di arresto\n",
    "    - Il programma è registrato nella prima parte della RAM, invece i dati nelle locazioni successive\n",
    "    \n",
    "Ogni cella ha un proprio **indice** chiamato **indirizzo della locazione di memoria**"
   ]
  },
  {
   "cell_type": "markdown",
   "id": "be5202b1",
   "metadata": {
    "slideshow": {
     "slide_type": "subslide"
    }
   },
   "source": [
    "Nel processore sono presenti:\n",
    "- **PC (Program Counter)**: contiene l'indirizzo della prossima istruzione da eseguire\n",
    "- **IR (Instruction Register)**: contiene l'istruzione in fase di elaborazione in quel momento\n",
    "- **ALU (unità aritmetica-logica)**: si occupa di eseguire operazioni aritmetiche e logiche\n",
    "- **CU (Control Unit)**: coordina tutte le azioni necessarie per l'esecuzione di una (o un insieme) istruzione"
   ]
  },
  {
   "cell_type": "markdown",
   "id": "f23caf99",
   "metadata": {
    "slideshow": {
     "slide_type": "subslide"
    }
   },
   "source": [
    "## Computazione\n",
    "Vengono eseguite delle istruzioni in quest'ordine:\n",
    "- Legge il contenuto del contatore (PC)\n",
    "- Copia nell'IR (fetch) l'istruzione da eseguire\n",
    "- Decodifica l'istruzione\n",
    "- Invia segnali alla ALU per eseguire l'istruzione, e acquisisce dalla memoria gli operandi dell'istruzione\n",
    "- Dopo che la ALU ha calcolato il risultato, lo salva in una locazione di memoria"
   ]
  },
  {
   "cell_type": "markdown",
   "id": "6275165c",
   "metadata": {
    "slideshow": {
     "slide_type": "slide"
    }
   },
   "source": [
    "# Esercizi"
   ]
  },
  {
   "cell_type": "markdown",
   "id": "cf4292d5",
   "metadata": {
    "slideshow": {
     "slide_type": "slide"
    }
   },
   "source": [
    "❓ **Una macchina di Turing “Universale”:**\n",
    "1. È una macchina di Von Neumann con una CPU che emula una macchina di turing.\n",
    "2. È una macchina di Turing in grado di calcolare tutte le funzioni calcolabili da ogni singola macchina di Turing.\n",
    "3. È una macchina di Turing in grado di calcolare ogni funzione, anche quelle non calcolabili da ogni singola macchina di Turing.\n",
    "4. Nessuna delle tre risposte precedenti è corretta."
   ]
  },
  {
   "cell_type": "markdown",
   "id": "2ad1cf7d",
   "metadata": {
    "slideshow": {
     "slide_type": "subslide"
    }
   },
   "source": [
    "## 2 ✅\n",
    "https://it.wikipedia.org/wiki/Macchina_di_Turing_universale"
   ]
  },
  {
   "cell_type": "markdown",
   "id": "d9de270f",
   "metadata": {
    "slideshow": {
     "slide_type": "slide"
    }
   },
   "source": [
    "❓ **Quale delle seguenti NON è una componente della Macchina di Turing?**\n",
    "1. Un nastro di lunghezza infinita\n",
    "2. Una testina che si sposta lungo il nastro\n",
    "3. Un insieme di stati interni\n",
    "4. Un'unità logico-aritmetica"
   ]
  },
  {
   "cell_type": "markdown",
   "id": "e3140cab",
   "metadata": {
    "slideshow": {
     "slide_type": "subslide"
    }
   },
   "source": [
    "## 4 ✅"
   ]
  },
  {
   "cell_type": "markdown",
   "id": "adea2f72",
   "metadata": {
    "slideshow": {
     "slide_type": "slide"
    }
   },
   "source": [
    "❓ **Cosa afferma la Tesi di Church-Turing?**\n",
    "1. Tutte le funzioni sono calcolabili\n",
    "2. Ogni funzione intuitivamente computabile è computabile con la macchina di Turing\n",
    "3. Le macchine di Turing sono più potenti dei computer moderni\n",
    "4. Ogni algoritmo può essere eseguito in tempo polinomiale"
   ]
  },
  {
   "cell_type": "markdown",
   "id": "de415069",
   "metadata": {
    "slideshow": {
     "slide_type": "subslide"
    }
   },
   "source": [
    "## 2 ✅"
   ]
  },
  {
   "cell_type": "markdown",
   "id": "d1a92890",
   "metadata": {
    "slideshow": {
     "slide_type": "slide"
    }
   },
   "source": [
    "❓ **Quale dei seguenti NON è un elemento dell'architettura di Von Neumann?**\n",
    "1. Memoria centrale (RAM)\n",
    "2. Processore\n",
    "3. Nastro infinito\n",
    "4. Program counter"
   ]
  },
  {
   "cell_type": "markdown",
   "id": "b38738bc",
   "metadata": {
    "slideshow": {
     "slide_type": "subslide"
    }
   },
   "source": [
    "## 3 ✅"
   ]
  },
  {
   "cell_type": "markdown",
   "id": "28db2668",
   "metadata": {
    "slideshow": {
     "slide_type": "slide"
    }
   },
   "source": [
    "❓ **In cosa consiste il Test di Turing?**\n",
    "1. Verificare se una macchina può superare le capacità di calcolo umane\n",
    "2. Determinare se una macchina può risolvere problemi NP-completi\n",
    "3. Stabilire se una macchina può essere considerata \"intelligente\" imitando il comportamento umano in una conversazione\n",
    "4. Testare la velocità di esecuzione di algoritmi complessi"
   ]
  },
  {
   "cell_type": "markdown",
   "id": "8b11e08b",
   "metadata": {
    "slideshow": {
     "slide_type": "subslide"
    }
   },
   "source": [
    "## 3 ✅"
   ]
  }
 ],
 "metadata": {
  "celltoolbar": "Slideshow",
  "kernelspec": {
   "display_name": "Python 3 (ipykernel)",
   "language": "python",
   "name": "python3"
  },
  "language_info": {
   "codemirror_mode": {
    "name": "ipython",
    "version": 3
   },
   "file_extension": ".py",
   "mimetype": "text/x-python",
   "name": "python",
   "nbconvert_exporter": "python",
   "pygments_lexer": "ipython3",
   "version": "3.11.0"
  }
 },
 "nbformat": 4,
 "nbformat_minor": 5
}
