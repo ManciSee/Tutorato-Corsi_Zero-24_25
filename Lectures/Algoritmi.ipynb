{
 "cells": [
  {
   "cell_type": "markdown",
   "id": "2da5ca2d",
   "metadata": {
    "slideshow": {
     "slide_type": "slide"
    }
   },
   "source": [
    "# Tutorato Corsi Zero\n",
    "Sergio Mancini A.A. 2024/2025"
   ]
  },
  {
   "cell_type": "markdown",
   "id": "b89fc509",
   "metadata": {
    "slideshow": {
     "slide_type": "slide"
    }
   },
   "source": [
    "## Calendario\n",
    "https://studentiunict-my.sharepoint.com/:x:/g/personal/mncsrg01a20c351k_studium_unict_it/ESjWM90DVrpGsD43Wc3VSaUBQ_Qe871oG5JStv7nZIESZQ?e=GNMEet&nav=MTVfe0QxODk3Q0E3LUNGRDYtREI0OC1CNUM0LTE4NjUzNDJGQUZGRH0"
   ]
  },
  {
   "cell_type": "markdown",
   "id": "76b97f32",
   "metadata": {
    "slideshow": {
     "slide_type": "subslide"
    }
   },
   "source": [
    "# Canale Telegram\n",
    "https://t.me/+3qExmJg2eFZhNDg0"
   ]
  },
  {
   "cell_type": "markdown",
   "id": "67e365c5",
   "metadata": {
    "slideshow": {
     "slide_type": "slide"
    }
   },
   "source": [
    "# Algoritmi"
   ]
  },
  {
   "cell_type": "markdown",
   "id": "651696fc",
   "metadata": {
    "slideshow": {
     "slide_type": "slide"
    }
   },
   "source": [
    "❓ **Definizione di algoritmo:**\n",
    "1. Sequenza non ordinata e finita di passi (azioni o istruzioni) che producono un ben determinato risultato in un tempo finito.\n",
    "2. Sequenza ordinata e finita di passi (azioni o istruzioni) che producono un ben determinato risultato in un tempo finito.\n",
    "3. Sequenza ordinata e infinita di passi (azioni o istruzioni) che producono un ben determinato risultato in un tempo infinito.\n",
    "4. Sequenza ordinata e finita di passi (azioni o istruzioni) che producono un ben determinato risultato in un tempo infinito."
   ]
  },
  {
   "cell_type": "markdown",
   "id": "defdf10a",
   "metadata": {
    "slideshow": {
     "slide_type": "slide"
    }
   },
   "source": [
    "# 2 ✅ \n",
    "Vedi pagina 8 del pdf _algoritmi.pdf_"
   ]
  },
  {
   "cell_type": "markdown",
   "id": "41bb9d54",
   "metadata": {
    "slideshow": {
     "slide_type": "slide"
    }
   },
   "source": [
    "❓ **Il paradigma di programmazione ad oggetti:**\n",
    "1. si basa sul concetto di oggetti e moduli che si scambiano messaggi;\n",
    "2. si basa sul concetto di oggetti che si scambiano messaggi;\n",
    "3. si basa sul concetto di procedure che si inviano oggetti;\n",
    "4. richiede l’uso di un compilatore per le funzionim e di un inteprete per gli oggetti."
   ]
  },
  {
   "cell_type": "markdown",
   "id": "4bbaff92",
   "metadata": {
    "slideshow": {
     "slide_type": "slide"
    }
   },
   "source": [
    "# 2 ✅ "
   ]
  },
  {
   "cell_type": "markdown",
   "id": "a94257cf",
   "metadata": {
    "slideshow": {
     "slide_type": "slide"
    }
   },
   "source": [
    "❓ **Siano N, a e b numeri interi. Si supponga che 0 < a < b < N, ed infine che V sia una matrice quadrata di N × N elementi. Il seguente algoritmo**\n",
    "```\n",
    "Leggi N\n",
    "Leggi V\n",
    "Leggi a\n",
    "Leggi b\n",
    "M←0\n",
    "j←a\n",
    "While ( j < b ) Do\n",
    "M ← M + V [N − 1 − j][j]\n",
    "j←j+1 EndWhile Stampa M\n",
    "````\n",
    "1.  calcola la somma di b elementi della diagonale principale di V\n",
    "2. calcola la somma di a − b elementi della diagonale secondaria di V\n",
    "3.  calcola la somma di b − a − 1 elementi della diagonale principale di V\n",
    "4. calcola la somma di b − a elementi della diagonale secondaria di V"
   ]
  },
  {
   "cell_type": "markdown",
   "id": "a99ab376",
   "metadata": {
    "slideshow": {
     "slide_type": "slide"
    }
   },
   "source": [
    "# 4 ✅ \n",
    "Il ciclo somma gli elementi della diagonale secondaria ```i=N-1-j``` e ```j```, per valori di ```j``` compresi tra ```a``` e ```b-1```, cioè ```b-a``` elementi "
   ]
  },
  {
   "cell_type": "markdown",
   "id": "28822dd2",
   "metadata": {
    "slideshow": {
     "slide_type": "slide"
    }
   },
   "source": [
    "❓ **Siano N ed M interi positivi (input), sia T una matrice di dimensioni N × M. Sia P=min(N, M). Il seguente algoritmo**\n",
    "```\n",
    "Leggi N\n",
    "Leggi M\n",
    "Leggi T\n",
    "i←P−1\n",
    "S←0\n",
    "While (i >= 0) Do\n",
    "S ← T [i][P − 1 − i] + S\n",
    "i←i−1 Endwhile\n",
    "Stampa S\n",
    "````\n",
    "\n",
    "1.  somma gli elementi della diagonale principale della sotto-matrice di T formata da P righe ed M colonne;\n",
    "2. somma gli elementi della diagonale principale della sotto-matrice di T formata da N righe e P colonne;\n",
    "3. somma gli elementi della diagonale secondaria della sotto-matrice di T formata da P righe e P colonne;\n",
    "4. somma gli elementi della diagonale principale della sotto-matrice di T formata da P righe e P colonne;"
   ]
  },
  {
   "cell_type": "markdown",
   "id": "52c48291",
   "metadata": {
    "slideshow": {
     "slide_type": "slide"
    }
   },
   "source": [
    "# 3 ✅\n",
    "Il ciclo somma gli elementi della diagonale secondaria della sottomatrice di dimensioni ```PxP```, dove ```P=min(N,M)```\n",
    "\n"
   ]
  },
  {
   "cell_type": "markdown",
   "id": "4bd97ced",
   "metadata": {
    "slideshow": {
     "slide_type": "slide"
    }
   },
   "source": [
    "❓ **Un qualsiasi algoritmo per la ricerca di un dato all’interno di un generico vettore di N elementi distinti:**\n",
    "1. produrrebbe al massimo N iterazioni; \n",
    "2. produrrebbe almeno N − 1 iterazioni; \n",
    "3. produrrebbe meno di N/2 iterazioni;\n",
    "4. produrrebbe 2 × N iterazioni;"
   ]
  },
  {
   "cell_type": "markdown",
   "id": "1f8f59dd",
   "metadata": {
    "slideshow": {
     "slide_type": "subslide"
    }
   },
   "source": [
    "# 1 ✅\n",
    "Se si considera un algoritmo di **ricerca lineare** (o sequenziale), nel caso peggiore (quando l'elemento da cercare si trova alla fine del vettore o non è presente), l'algoritmo dovrà esaminare tutti gli elementi del vettore. Pertanto, questo tipo di ricerca richiede al **massimo N iterazioni** per un vettore di N elementi distinti."
   ]
  }
 ],
 "metadata": {
  "celltoolbar": "Slideshow",
  "kernelspec": {
   "display_name": "Python 3 (ipykernel)",
   "language": "python",
   "name": "python3"
  },
  "language_info": {
   "codemirror_mode": {
    "name": "ipython",
    "version": 3
   },
   "file_extension": ".py",
   "mimetype": "text/x-python",
   "name": "python",
   "nbconvert_exporter": "python",
   "pygments_lexer": "ipython3",
   "version": "3.11.0"
  }
 },
 "nbformat": 4,
 "nbformat_minor": 5
}
